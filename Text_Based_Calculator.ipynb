{
  "nbformat": 4,
  "nbformat_minor": 0,
  "metadata": {
    "colab": {
      "provenance": []
    },
    "kernelspec": {
      "name": "python3",
      "display_name": "Python 3"
    },
    "language_info": {
      "name": "python"
    }
  },
  "cells": [
    {
      "cell_type": "markdown",
      "source": [
        "###Simple Calculator Demo"
      ],
      "metadata": {
        "id": "B0rVXzRS15WY"
      }
    },
    {
      "cell_type": "code",
      "source": [
        "a=10"
      ],
      "metadata": {
        "id": "oM8VSe6O2IbP"
      },
      "execution_count": null,
      "outputs": []
    },
    {
      "cell_type": "code",
      "source": [
        "b=5"
      ],
      "metadata": {
        "id": "aj0IOYBL2NYA"
      },
      "execution_count": null,
      "outputs": []
    },
    {
      "cell_type": "code",
      "source": [
        "print(\"Addition\", a+b)"
      ],
      "metadata": {
        "colab": {
          "base_uri": "https://localhost:8080/"
        },
        "id": "MJz-42oB2TJW",
        "outputId": "134eea31-bcba-4c27-869e-48fed617cd7f"
      },
      "execution_count": null,
      "outputs": [
        {
          "output_type": "stream",
          "name": "stdout",
          "text": [
            "Addition 15\n"
          ]
        }
      ]
    },
    {
      "cell_type": "code",
      "source": [
        "print(\"Subtraction\", a-b)"
      ],
      "metadata": {
        "colab": {
          "base_uri": "https://localhost:8080/"
        },
        "id": "24AGyDxN2fp1",
        "outputId": "0abc50b8-13a5-4b94-82af-156ab4636278"
      },
      "execution_count": null,
      "outputs": [
        {
          "output_type": "stream",
          "name": "stdout",
          "text": [
            "Subtraction 5\n"
          ]
        }
      ]
    },
    {
      "cell_type": "code",
      "source": [
        "print(\"Multiplication\", a*b)"
      ],
      "metadata": {
        "colab": {
          "base_uri": "https://localhost:8080/"
        },
        "id": "a8akJkI02sek",
        "outputId": "e648c29d-4752-4412-ec8e-2b077e6d8f77"
      },
      "execution_count": null,
      "outputs": [
        {
          "output_type": "stream",
          "name": "stdout",
          "text": [
            "Multiplication 50\n"
          ]
        }
      ]
    },
    {
      "cell_type": "code",
      "source": [
        "print(\"Division\", a/b)"
      ],
      "metadata": {
        "colab": {
          "base_uri": "https://localhost:8080/"
        },
        "id": "8e5sxqMl26uL",
        "outputId": "10c612e8-cf52-4bcc-89a9-63fb203e5ce1"
      },
      "execution_count": null,
      "outputs": [
        {
          "output_type": "stream",
          "name": "stdout",
          "text": [
            "Division 2.0\n"
          ]
        }
      ]
    },
    {
      "cell_type": "markdown",
      "source": [
        "####The above shows how Python handles math."
      ],
      "metadata": {
        "id": "BhR3FKEv3By_"
      }
    },
    {
      "cell_type": "markdown",
      "source": [
        "###Get input from the user"
      ],
      "metadata": {
        "id": "L-PqfROI3eiN"
      }
    },
    {
      "cell_type": "code",
      "source": [
        "from google.colab import output  # Tools for controlling output display in Google Colab (not needed for basic input)\n"
      ],
      "metadata": {
        "id": "x3GWWzJK7cZF"
      },
      "execution_count": null,
      "outputs": []
    },
    {
      "cell_type": "code",
      "source": [
        "# Ask the user for numbers (type a number and press Enter after each input)\n",
        "num1 = float(input(\"Enter first number: \"))\n",
        "num2 = float(input(\"Enter second number: \"))"
      ],
      "metadata": {
        "colab": {
          "base_uri": "https://localhost:8080/"
        },
        "id": "kHGVIFBf-Upb",
        "outputId": "ac0f53ac-f178-4de6-d815-bd1201a75ff7"
      },
      "execution_count": null,
      "outputs": [
        {
          "name": "stdout",
          "output_type": "stream",
          "text": [
            "Enter first number: 10\n",
            "Enter second number: 5\n"
          ]
        }
      ]
    },
    {
      "cell_type": "code",
      "source": [
        "# Show the results\n",
        "print(\"Addition:\", num1 + num2)\n",
        "print(\"Subtraction:\", num1 - num2)\n",
        "print(\"Multiplication:\", num1 * num2)\n",
        "print(\"Division:\", num1 / num2)"
      ],
      "metadata": {
        "colab": {
          "base_uri": "https://localhost:8080/"
        },
        "id": "AQcp5_ZSACKN",
        "outputId": "1f9b924d-02be-4091-bf74-cdfa1d2d3838"
      },
      "execution_count": null,
      "outputs": [
        {
          "output_type": "stream",
          "name": "stdout",
          "text": [
            "Addition: 15.0\n",
            "Subtraction: 5.0\n",
            "Multiplication: 50.0\n",
            "Division: 2.0\n"
          ]
        }
      ]
    },
    {
      "cell_type": "markdown",
      "source": [
        "####The above code takes two numbers from the user and displays their addition, subtraction, multiplication, and division results."
      ],
      "metadata": {
        "id": "Te8kE6G5AiJK"
      }
    },
    {
      "cell_type": "markdown",
      "source": [
        "###Let the user pick what operation they want"
      ],
      "metadata": {
        "id": "V_ZuLpXhBRtu"
      }
    },
    {
      "cell_type": "code",
      "source": [
        "# This is a simple calculator program that runs with text input and output (no buttons or graphics).\n",
        "print(\"Select operation:\")\n",
        "print(\"1. Addition:\")\n",
        "print(\"2. Subtraction:\")\n",
        "print(\"3. Multiplication:\")\n",
        "print(\"4. Division:\")"
      ],
      "metadata": {
        "colab": {
          "base_uri": "https://localhost:8080/"
        },
        "id": "CV_w_lXwAhlW",
        "outputId": "5fc6b4bf-0b5d-4eb7-a4dd-c6db760d2ea4"
      },
      "execution_count": null,
      "outputs": [
        {
          "output_type": "stream",
          "name": "stdout",
          "text": [
            "Select operation:\n",
            "1. Addition:\n",
            "2. Subtraction:\n",
            "3. Multiplication:\n",
            "4. Division:\n"
          ]
        }
      ]
    },
    {
      "cell_type": "code",
      "source": [
        "choice = input(\"Enter choice (1/2/3/4):\")\n",
        "num1 = float(input(\"Enter first number:\"))\n",
        "num2 =  float(input(\"Enter second number:\"))"
      ],
      "metadata": {
        "colab": {
          "base_uri": "https://localhost:8080/"
        },
        "id": "m78mpIWFDFto",
        "outputId": "6eb94259-5e65-4a55-9e49-16b9c4d9c20f"
      },
      "execution_count": null,
      "outputs": [
        {
          "name": "stdout",
          "output_type": "stream",
          "text": [
            "Enter choice (1/2/3/4):2\n",
            "Enter first number:40\n",
            "Enter second number:10\n"
          ]
        }
      ]
    },
    {
      "cell_type": "code",
      "source": [
        "if choice == \"1\":\n",
        "    print(\"Result:\", num1 + num2)\n",
        "elif choice == \"2\":\n",
        "    print(\"Result:\", num1 - num2)\n",
        "elif choice == \"3\":\n",
        "    print(\"Result:\", num1 * num2)\n",
        "elif choice == \"4\":\n",
        "    if num2 != 0:\n",
        "        print(\"Result:\", num1 / num2)\n",
        "    else:\n",
        "        print(\"Error: Division by zero is not allowed.\")\n",
        "else:\n",
        "    print(\"Invalid choice\")"
      ],
      "metadata": {
        "colab": {
          "base_uri": "https://localhost:8080/"
        },
        "id": "nLJz6_6NDsf4",
        "outputId": "3a5af0dc-6baf-4609-d488-33085bf35e36"
      },
      "execution_count": null,
      "outputs": [
        {
          "output_type": "stream",
          "name": "stdout",
          "text": [
            "Result: 30.0\n"
          ]
        }
      ]
    },
    {
      "cell_type": "markdown",
      "source": [
        "#### The above code asks the user to choose a math operation and two numbers, then calculates and displays the result.  \n"
      ],
      "metadata": {
        "id": "oQFp19srIw7h"
      }
    },
    {
      "cell_type": "markdown",
      "source": [
        "###Repeat the calculator until the user chooses to quit"
      ],
      "metadata": {
        "id": "bZkG7PZ2JDxW"
      }
    },
    {
      "cell_type": "code",
      "source": [
        "# Looping calculator\n",
        "while True:\n",
        "    print(\"\\n--- Text-Based Calculator ---\")\n",
        "    print(\"1. Addition\")\n",
        "    print(\"2. Subtraction\")\n",
        "    print(\"3. Multiplication\")\n",
        "    print(\"4. Division\")\n",
        "    print(\"5. Quit\")\n",
        "\n",
        "    choice = input(\"Enter choice (1/2/3/4/5): \")\n",
        "\n",
        "    if choice == \"5\":\n",
        "        print(\"Goodbye!\")\n",
        "        break\n",
        "\n",
        "    num1 = float(input(\"Enter first number: \"))\n",
        "    num2 = float(input(\"Enter second number: \"))\n",
        "\n",
        "    if choice == \"1\":\n",
        "        print(\"Result:\", num1 + num2)\n",
        "    elif choice == \"2\":\n",
        "        print(\"Result:\", num1 - num2)\n",
        "    elif choice == \"3\":\n",
        "        print(\"Result:\", num1 * num2)\n",
        "    elif choice == \"4\":\n",
        "        if num2 != 0:\n",
        "            print(\"Result:\", num1 / num2)\n",
        "        else:\n",
        "            print(\"Error: Division by zero is not allowed.\")\n",
        "    else:\n",
        "        print(\"Invalid choice\")"
      ],
      "metadata": {
        "id": "nB3BeYTdLbXq",
        "colab": {
          "base_uri": "https://localhost:8080/"
        },
        "outputId": "0d428194-3a8c-4f6e-d460-1bf5cecc70d7"
      },
      "execution_count": 29,
      "outputs": [
        {
          "output_type": "stream",
          "name": "stdout",
          "text": [
            "\n",
            "--- Text-Based Calculator ---\n",
            "1. Addition\n",
            "2. Subtraction\n",
            "3. Multiplication\n",
            "4. Division\n",
            "5. Quit\n",
            "Enter choice (1/2/3/4/5): 1\n",
            "Enter first number: 3\n",
            "Enter second number: 5\n",
            "Result: 8.0\n",
            "\n",
            "--- Text-Based Calculator ---\n",
            "1. Addition\n",
            "2. Subtraction\n",
            "3. Multiplication\n",
            "4. Division\n",
            "5. Quit\n",
            "Enter choice (1/2/3/4/5): 2\n",
            "Enter first number: 100\n",
            "Enter second number: 30\n",
            "Result: 70.0\n",
            "\n",
            "--- Text-Based Calculator ---\n",
            "1. Addition\n",
            "2. Subtraction\n",
            "3. Multiplication\n",
            "4. Division\n",
            "5. Quit\n",
            "Enter choice (1/2/3/4/5): 3\n",
            "Enter first number: 4\n",
            "Enter second number: 5\n",
            "Result: 20.0\n",
            "\n",
            "--- Text-Based Calculator ---\n",
            "1. Addition\n",
            "2. Subtraction\n",
            "3. Multiplication\n",
            "4. Division\n",
            "5. Quit\n",
            "Enter choice (1/2/3/4/5): 4\n",
            "Enter first number: 18\n",
            "Enter second number: 3\n",
            "Result: 6.0\n",
            "\n",
            "--- Text-Based Calculator ---\n",
            "1. Addition\n",
            "2. Subtraction\n",
            "3. Multiplication\n",
            "4. Division\n",
            "5. Quit\n",
            "Enter choice (1/2/3/4/5): 5\n",
            "Goodbye!\n"
          ]
        }
      ]
    }
  ]
}